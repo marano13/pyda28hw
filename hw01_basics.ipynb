{
 "cells": [
  {
   "cell_type": "markdown",
   "metadata": {},
   "source": [
    "## Задание 1"
   ]
  },
  {
   "cell_type": "code",
   "execution_count": 6,
   "metadata": {},
   "outputs": [
    {
     "name": "stdout",
     "output_type": "stream",
     "text": [
      "Введите фразу 1: улоптл\n",
      "Введите фразу 2: ьудкл\n",
      "Фраза 1 длиннее фразы 2\n"
     ]
    }
   ],
   "source": [
    "phrase_1 = input('Введите фразу 1: ')\n",
    "phrase_2 = input('Введите фразу 2: ')\n",
    "\n",
    "if len(phrase_1) > len(phrase_2):\n",
    "    print('Фраза 1 длиннее фразы 2')\n",
    "elif len(phrase_1) < len(phrase_2):\n",
    "    print('Фраза 2 длиннее фразы 1')\n",
    "else:\n",
    "    print('Фразы равной длины')"
   ]
  },
  {
   "cell_type": "markdown",
   "metadata": {},
   "source": [
    "## Задание 2"
   ]
  },
  {
   "cell_type": "code",
   "execution_count": 2,
   "metadata": {},
   "outputs": [
    {
     "name": "stdout",
     "output_type": "stream",
     "text": [
      "Введите год: 1400\n",
      "Обычный год\n"
     ]
    }
   ],
   "source": [
    "year = int(input('Введите год: '))\n",
    "\n",
    "if year % 400 == 0 or (year % 4 == 0 and year % 100 != 0):\n",
    "    print('Високосный год')\n",
    "else:\n",
    "    print('Обычный год')"
   ]
  },
  {
   "cell_type": "markdown",
   "metadata": {},
   "source": [
    "## Задание 3"
   ]
  },
  {
   "cell_type": "code",
   "execution_count": 5,
   "metadata": {},
   "outputs": [
    {
     "name": "stdout",
     "output_type": "stream",
     "text": [
      "Введите день: 17\n",
      "Введите название месяца: январь\n",
      "Ваш знак зодиака: Козерог\n"
     ]
    }
   ],
   "source": [
    "day = int(input('Введите день: '))\n",
    "month = input('Введите название месяца: ')\n",
    "sign = 'Ваш знак зодиака: '\n",
    "\n",
    "if ((month == 'Март' or month == 'март') and day>=21) or ((month == 'Апрель' or month == 'апрель') and day<20):\n",
    "    print(sign + 'Овен')\n",
    "elif ((month == 'Март' or month == 'март') and day<21) or ((month == 'Февраль' or month == 'февраль') and day>=19):\n",
    "    print(sign + 'Рыбы')\n",
    "elif ((month == 'Апрель' or month == 'апрель') and day>=20) or ((month == 'Май' or month == 'май') and day<21):\n",
    "    print(sign + 'Телец')\n",
    "elif ((month == 'Май' or month == 'май') and day>=21) or ((month == 'Июнь' or month == 'июнь') and day<21):\n",
    "    print(sign + 'Близнецы')\n",
    "elif ((month == 'Июнь' or month == 'июнь') and day>=21) or ((month == 'Июль' or month == 'июль') and day<23):\n",
    "    print(sign + 'Рак')\n",
    "elif ((month == 'Июль' or month == 'июль') and day>=23) or ((month == 'Август' or month == 'август') and day<23):\n",
    "    print(sign + 'Лев')\n",
    "elif ((month == 'Август' or month == 'август') and day>=23) or ((month == 'Сентябрь' or month == 'сентябрь') and day<23):\n",
    "    print(sign + 'Дева')\n",
    "elif ((month == 'Сентябрь' or month == 'сентябрь') and day>=23) or ((month == 'Октябрь' or month == 'октябрь') and day<23):\n",
    "    print(sign + 'Весы')\n",
    "elif ((month == 'Октябрь' or month == 'октябрь') and day>=23) or ((month == 'Ноябрь' or month == 'ноябрь') and day<22):\n",
    "    print(sign + 'Скорпион')\n",
    "elif ((month == 'Ноябрь' or month == 'ноябрь') and day>=22) or ((month == 'Декабрь' or month == 'декабрь') and day<22):\n",
    "    print(sign + 'Стрелец')\n",
    "elif ((month == 'Декабрь' or month == 'декабрь') and day>=22) or ((month == 'Январь' or month == 'январь') and day<20):\n",
    "    print(sign + 'Козерог')\n",
    "elif ((month == 'Январь' or month == 'январь') and day>=20) or ((month == 'Февраль' or month == 'февраль') and day<19):\n",
    "    print(sign + 'Водолей')"
   ]
  },
  {
   "cell_type": "markdown",
   "metadata": {},
   "source": [
    "## Задание 4"
   ]
  },
  {
   "cell_type": "code",
   "execution_count": 9,
   "metadata": {},
   "outputs": [
    {
     "name": "stdout",
     "output_type": "stream",
     "text": [
      "Введите ширину: 14\n",
      "Введите длину: 201\n",
      "Введите высоту: 45\n",
      "Ищите упаковку для лыж\n"
     ]
    }
   ],
   "source": [
    "width = int(input('Введите ширину: '))\n",
    "length = int(input('Введите длину: '))\n",
    "height = int(input('Введите высоту: '))\n",
    "\n",
    "if width <= 15 and length <= 15 and height <= 15:\n",
    "    print('Коробка №1')\n",
    "elif (50>width>15 and length<=50 and height<=50) or (50>length>15 and width<=50 and height<=50) or (50>height>15 and width<=50 and length<=50):\n",
    "    print('Коробка №2')\n",
    "elif length > 200:\n",
    "    print('Ищите упаковку для лыж')\n",
    "else:\n",
    "    print('Стандартная коробка №3')"
   ]
  },
  {
   "cell_type": "markdown",
   "metadata": {},
   "source": [
    "## Задание 5"
   ]
  },
  {
   "cell_type": "code",
   "execution_count": 12,
   "metadata": {},
   "outputs": [
    {
     "name": "stdout",
     "output_type": "stream",
     "text": [
      "Введите шестизначное число: 123321\n",
      "Счастливый билет\n"
     ]
    }
   ],
   "source": [
    "ticket = input('Введите шестизначное число: ')\n",
    "a = int(ticket[0])\n",
    "b = int(ticket[1])\n",
    "c = int(ticket[2])\n",
    "d = int(ticket[3])\n",
    "e = int(ticket[4])\n",
    "f = int(ticket[5])\n",
    "right_sum = d + e + f\n",
    "left_sum = a + b + c\n",
    "\n",
    "if left_sum == right_sum:\n",
    "    print('Счастливый билет')\n",
    "else:\n",
    "    print('Несчастливый  билет')"
   ]
  },
  {
   "cell_type": "markdown",
   "metadata": {},
   "source": [
    "## Задание 6"
   ]
  },
  {
   "cell_type": "code",
   "execution_count": 14,
   "metadata": {},
   "outputs": [
    {
     "name": "stdout",
     "output_type": "stream",
     "text": [
      "Введите название фигуры: Круг\n",
      "Введите радиус круга: 20\n",
      "Площадь круга =  1256.64\n"
     ]
    }
   ],
   "source": [
    "import math\n",
    "figure = str(input('Введите название фигуры: '))\n",
    "\n",
    "if figure == 'круг' or figure == 'Круг':\n",
    "    radius = float(input('Введите радиус круга: '))\n",
    "    area = math.pi*(radius**2)\n",
    "    print('Площадь круга = ', round(area,2))\n",
    "elif figure == 'треугольник' or figure == 'Треугольник':\n",
    "    a = float(input('Введите длину стороны A: '))\n",
    "    b = float(input('Введите длину стороны B: '))\n",
    "    c = float(input('Введите длину стороны C: '))\n",
    "    p = (a+b+c)/2\n",
    "    area = math.sqrt(p*(p-a)*(p-b)*(p-c))\n",
    "    print('Площадь треугольника = ', round(area,2))\n",
    "elif figure == 'прямоугольник' or figure == 'Прямоугольник':\n",
    "    a = float(input('Введите высоту: '))\n",
    "    b = float(input('Введите ширину: '))\n",
    "    area = a*b\n",
    "    print('Площадь прямоугольника = ', round(area,2))\n",
    "else:\n",
    "    print('Что-то пошло не так, попробуйте снова')"
   ]
  }
 ],
 "metadata": {
  "kernelspec": {
   "display_name": "Python 3",
   "language": "python",
   "name": "python3"
  },
  "language_info": {
   "codemirror_mode": {
    "name": "ipython",
    "version": 3
   },
   "file_extension": ".py",
   "mimetype": "text/x-python",
   "name": "python",
   "nbconvert_exporter": "python",
   "pygments_lexer": "ipython3",
   "version": "3.8.5"
  }
 },
 "nbformat": 4,
 "nbformat_minor": 4
}
